{
 "cells": [
  {
   "cell_type": "markdown",
   "id": "d16e3428",
   "metadata": {},
   "source": [
    "# TASK 3 \n",
    "Szymon Forysiuk 23.03.2023"
   ]
  },
  {
   "cell_type": "markdown",
   "id": "b8d54d10",
   "metadata": {},
   "source": [
    "### LOADING LIBRARIES"
   ]
  },
  {
   "cell_type": "code",
   "execution_count": 220,
   "id": "c042ba67",
   "metadata": {},
   "outputs": [],
   "source": [
    "import numpy as np\n",
    "import pandas as pd\n",
    "import seaborn as sns\n",
    "import matplotlib.pyplot as plt\n",
    "\n",
    "np.random.seed(1)\n",
    "sns.set_style('whitegrid')"
   ]
  },
  {
   "cell_type": "code",
   "execution_count": 221,
   "id": "1ced7969",
   "metadata": {},
   "outputs": [],
   "source": [
    "from keras.metrics import RootMeanSquaredError\n",
    "\n",
    "from keras.models import Sequential\n",
    "from keras.layers import Dense, Normalization\n",
    "import tensorflow as tf\n",
    "from keras.callbacks import EarlyStopping, ModelCheckpoint, ReduceLROnPlateau\n",
    "from keras.metrics import RootMeanSquaredError, MeanAbsoluteError\n",
    "from keras.losses import MeanSquaredError\n",
    "\n",
    "from keras.optimizers import Adam"
   ]
  },
  {
   "cell_type": "markdown",
   "id": "4a880972",
   "metadata": {},
   "source": [
    "### LOADING internship_train.csv"
   ]
  },
  {
   "cell_type": "code",
   "execution_count": 222,
   "id": "3d78ffbb",
   "metadata": {},
   "outputs": [
    {
     "data": {
      "text/html": [
       "<div>\n",
       "<style scoped>\n",
       "    .dataframe tbody tr th:only-of-type {\n",
       "        vertical-align: middle;\n",
       "    }\n",
       "\n",
       "    .dataframe tbody tr th {\n",
       "        vertical-align: top;\n",
       "    }\n",
       "\n",
       "    .dataframe thead th {\n",
       "        text-align: right;\n",
       "    }\n",
       "</style>\n",
       "<table border=\"1\" class=\"dataframe\">\n",
       "  <thead>\n",
       "    <tr style=\"text-align: right;\">\n",
       "      <th></th>\n",
       "      <th>0</th>\n",
       "      <th>1</th>\n",
       "      <th>2</th>\n",
       "      <th>3</th>\n",
       "      <th>4</th>\n",
       "      <th>5</th>\n",
       "      <th>6</th>\n",
       "      <th>7</th>\n",
       "      <th>8</th>\n",
       "      <th>9</th>\n",
       "      <th>...</th>\n",
       "      <th>44</th>\n",
       "      <th>45</th>\n",
       "      <th>46</th>\n",
       "      <th>47</th>\n",
       "      <th>48</th>\n",
       "      <th>49</th>\n",
       "      <th>50</th>\n",
       "      <th>51</th>\n",
       "      <th>52</th>\n",
       "      <th>target</th>\n",
       "    </tr>\n",
       "  </thead>\n",
       "  <tbody>\n",
       "    <tr>\n",
       "      <th>51466</th>\n",
       "      <td>244</td>\n",
       "      <td>439</td>\n",
       "      <td>144</td>\n",
       "      <td>126</td>\n",
       "      <td>144</td>\n",
       "      <td>240</td>\n",
       "      <td>-5.196152</td>\n",
       "      <td>0.218664</td>\n",
       "      <td>0</td>\n",
       "      <td>203</td>\n",
       "      <td>...</td>\n",
       "      <td>9.429973</td>\n",
       "      <td>9.273639</td>\n",
       "      <td>14.115146</td>\n",
       "      <td>9.260578</td>\n",
       "      <td>1.161663</td>\n",
       "      <td>6.102983</td>\n",
       "      <td>3.090071</td>\n",
       "      <td>12.139017</td>\n",
       "      <td>6.157536</td>\n",
       "      <td>27.218664</td>\n",
       "    </tr>\n",
       "    <tr>\n",
       "      <th>30175</th>\n",
       "      <td>158</td>\n",
       "      <td>153</td>\n",
       "      <td>48</td>\n",
       "      <td>230</td>\n",
       "      <td>33</td>\n",
       "      <td>52</td>\n",
       "      <td>-7.549834</td>\n",
       "      <td>0.429961</td>\n",
       "      <td>0</td>\n",
       "      <td>227</td>\n",
       "      <td>...</td>\n",
       "      <td>3.549915</td>\n",
       "      <td>7.233118</td>\n",
       "      <td>7.153687</td>\n",
       "      <td>0.284825</td>\n",
       "      <td>0.967409</td>\n",
       "      <td>14.428568</td>\n",
       "      <td>0.089058</td>\n",
       "      <td>6.958958</td>\n",
       "      <td>11.457305</td>\n",
       "      <td>57.429961</td>\n",
       "    </tr>\n",
       "    <tr>\n",
       "      <th>89034</th>\n",
       "      <td>224</td>\n",
       "      <td>37</td>\n",
       "      <td>217</td>\n",
       "      <td>206</td>\n",
       "      <td>184</td>\n",
       "      <td>348</td>\n",
       "      <td>-8.062258</td>\n",
       "      <td>0.846731</td>\n",
       "      <td>0</td>\n",
       "      <td>105</td>\n",
       "      <td>...</td>\n",
       "      <td>5.469969</td>\n",
       "      <td>0.636932</td>\n",
       "      <td>4.246468</td>\n",
       "      <td>7.702925</td>\n",
       "      <td>1.348000</td>\n",
       "      <td>3.238526</td>\n",
       "      <td>3.773742</td>\n",
       "      <td>6.413672</td>\n",
       "      <td>14.624216</td>\n",
       "      <td>65.846731</td>\n",
       "    </tr>\n",
       "    <tr>\n",
       "      <th>24929</th>\n",
       "      <td>198</td>\n",
       "      <td>124</td>\n",
       "      <td>324</td>\n",
       "      <td>368</td>\n",
       "      <td>159</td>\n",
       "      <td>411</td>\n",
       "      <td>-5.385165</td>\n",
       "      <td>0.641764</td>\n",
       "      <td>0</td>\n",
       "      <td>5</td>\n",
       "      <td>...</td>\n",
       "      <td>8.807561</td>\n",
       "      <td>14.123967</td>\n",
       "      <td>12.887896</td>\n",
       "      <td>8.037714</td>\n",
       "      <td>3.190350</td>\n",
       "      <td>4.563219</td>\n",
       "      <td>13.576401</td>\n",
       "      <td>10.510453</td>\n",
       "      <td>7.207442</td>\n",
       "      <td>29.641764</td>\n",
       "    </tr>\n",
       "    <tr>\n",
       "      <th>26512</th>\n",
       "      <td>199</td>\n",
       "      <td>155</td>\n",
       "      <td>306</td>\n",
       "      <td>375</td>\n",
       "      <td>290</td>\n",
       "      <td>2</td>\n",
       "      <td>9.899495</td>\n",
       "      <td>0.994446</td>\n",
       "      <td>1</td>\n",
       "      <td>3</td>\n",
       "      <td>...</td>\n",
       "      <td>9.900639</td>\n",
       "      <td>6.559701</td>\n",
       "      <td>4.527013</td>\n",
       "      <td>14.546323</td>\n",
       "      <td>8.795585</td>\n",
       "      <td>3.364328</td>\n",
       "      <td>7.238899</td>\n",
       "      <td>5.530187</td>\n",
       "      <td>9.660869</td>\n",
       "      <td>98.994446</td>\n",
       "    </tr>\n",
       "  </tbody>\n",
       "</table>\n",
       "<p>5 rows × 54 columns</p>\n",
       "</div>"
      ],
      "text/plain": [
       "         0    1    2    3    4    5         6         7  8    9  ...  \\\n",
       "51466  244  439  144  126  144  240 -5.196152  0.218664  0  203  ...   \n",
       "30175  158  153   48  230   33   52 -7.549834  0.429961  0  227  ...   \n",
       "89034  224   37  217  206  184  348 -8.062258  0.846731  0  105  ...   \n",
       "24929  198  124  324  368  159  411 -5.385165  0.641764  0    5  ...   \n",
       "26512  199  155  306  375  290    2  9.899495  0.994446  1    3  ...   \n",
       "\n",
       "             44         45         46         47        48         49  \\\n",
       "51466  9.429973   9.273639  14.115146   9.260578  1.161663   6.102983   \n",
       "30175  3.549915   7.233118   7.153687   0.284825  0.967409  14.428568   \n",
       "89034  5.469969   0.636932   4.246468   7.702925  1.348000   3.238526   \n",
       "24929  8.807561  14.123967  12.887896   8.037714  3.190350   4.563219   \n",
       "26512  9.900639   6.559701   4.527013  14.546323  8.795585   3.364328   \n",
       "\n",
       "              50         51         52     target  \n",
       "51466   3.090071  12.139017   6.157536  27.218664  \n",
       "30175   0.089058   6.958958  11.457305  57.429961  \n",
       "89034   3.773742   6.413672  14.624216  65.846731  \n",
       "24929  13.576401  10.510453   7.207442  29.641764  \n",
       "26512   7.238899   5.530187   9.660869  98.994446  \n",
       "\n",
       "[5 rows x 54 columns]"
      ]
     },
     "execution_count": 222,
     "metadata": {},
     "output_type": "execute_result"
    }
   ],
   "source": [
    "internship_train = pd.read_csv('internship_train.csv')\n",
    "\n",
    "internship_train.sample(5)"
   ]
  },
  {
   "cell_type": "markdown",
   "id": "039646aa",
   "metadata": {},
   "source": [
    "###  EXPLORATORY DATA ANALYSIS"
   ]
  },
  {
   "cell_type": "markdown",
   "id": "2114d7aa",
   "metadata": {},
   "source": [
    "#### Basic informations for internship_train.csv"
   ]
  },
  {
   "cell_type": "code",
   "execution_count": 223,
   "id": "8e6acab4",
   "metadata": {},
   "outputs": [
    {
     "name": "stdout",
     "output_type": "stream",
     "text": [
      "<class 'pandas.core.frame.DataFrame'>\n",
      "RangeIndex: 90000 entries, 0 to 89999\n",
      "Data columns (total 54 columns):\n",
      " #   Column  Non-Null Count  Dtype  \n",
      "---  ------  --------------  -----  \n",
      " 0   0       90000 non-null  int64  \n",
      " 1   1       90000 non-null  int64  \n",
      " 2   2       90000 non-null  int64  \n",
      " 3   3       90000 non-null  int64  \n",
      " 4   4       90000 non-null  int64  \n",
      " 5   5       90000 non-null  int64  \n",
      " 6   6       90000 non-null  float64\n",
      " 7   7       90000 non-null  float64\n",
      " 8   8       90000 non-null  int64  \n",
      " 9   9       90000 non-null  int64  \n",
      " 10  10      90000 non-null  int64  \n",
      " 11  11      90000 non-null  int64  \n",
      " 12  12      90000 non-null  int64  \n",
      " 13  13      90000 non-null  float64\n",
      " 14  14      90000 non-null  float64\n",
      " 15  15      90000 non-null  float64\n",
      " 16  16      90000 non-null  float64\n",
      " 17  17      90000 non-null  float64\n",
      " 18  18      90000 non-null  float64\n",
      " 19  19      90000 non-null  float64\n",
      " 20  20      90000 non-null  float64\n",
      " 21  21      90000 non-null  float64\n",
      " 22  22      90000 non-null  float64\n",
      " 23  23      90000 non-null  float64\n",
      " 24  24      90000 non-null  float64\n",
      " 25  25      90000 non-null  float64\n",
      " 26  26      90000 non-null  float64\n",
      " 27  27      90000 non-null  float64\n",
      " 28  28      90000 non-null  float64\n",
      " 29  29      90000 non-null  float64\n",
      " 30  30      90000 non-null  float64\n",
      " 31  31      90000 non-null  float64\n",
      " 32  32      90000 non-null  float64\n",
      " 33  33      90000 non-null  float64\n",
      " 34  34      90000 non-null  float64\n",
      " 35  35      90000 non-null  float64\n",
      " 36  36      90000 non-null  float64\n",
      " 37  37      90000 non-null  float64\n",
      " 38  38      90000 non-null  float64\n",
      " 39  39      90000 non-null  float64\n",
      " 40  40      90000 non-null  float64\n",
      " 41  41      90000 non-null  float64\n",
      " 42  42      90000 non-null  float64\n",
      " 43  43      90000 non-null  float64\n",
      " 44  44      90000 non-null  float64\n",
      " 45  45      90000 non-null  float64\n",
      " 46  46      90000 non-null  float64\n",
      " 47  47      90000 non-null  float64\n",
      " 48  48      90000 non-null  float64\n",
      " 49  49      90000 non-null  float64\n",
      " 50  50      90000 non-null  float64\n",
      " 51  51      90000 non-null  float64\n",
      " 52  52      90000 non-null  float64\n",
      " 53  target  90000 non-null  float64\n",
      "dtypes: float64(43), int64(11)\n",
      "memory usage: 37.1 MB\n"
     ]
    }
   ],
   "source": [
    "internship_train.info()"
   ]
  },
  {
   "cell_type": "markdown",
   "id": "50e771e9",
   "metadata": {},
   "source": [
    "#### Looking for nan values"
   ]
  },
  {
   "cell_type": "code",
   "execution_count": 224,
   "id": "e91d4358",
   "metadata": {},
   "outputs": [
    {
     "name": "stdout",
     "output_type": "stream",
     "text": [
      "No columns have NaN values.\n"
     ]
    }
   ],
   "source": [
    "missing_percentages = internship_train.isnull().sum() * 100 / len(internship_train)\n",
    "\n",
    "if any(missing_percentages != 0):\n",
    "    print(\"There are columns with NaN values:\")\n",
    "    print(missing_percentages[missing_percentages != 0])\n",
    "else:\n",
    "    print(\"No columns have NaN values.\")"
   ]
  },
  {
   "cell_type": "markdown",
   "id": "89bc0db5",
   "metadata": {},
   "source": [
    "####  internship_train's dtype of columns"
   ]
  },
  {
   "cell_type": "code",
   "execution_count": 225,
   "id": "02771579",
   "metadata": {},
   "outputs": [
    {
     "name": "stdout",
     "output_type": "stream",
     "text": [
      "Index([], dtype='object')\n"
     ]
    }
   ],
   "source": [
    "print(internship_train.select_dtypes(exclude=['number']).columns)"
   ]
  },
  {
   "cell_type": "markdown",
   "id": "c715ea6f",
   "metadata": {},
   "source": [
    "#### Correlation between internship_train's columns"
   ]
  },
  {
   "cell_type": "code",
   "execution_count": 226,
   "id": "609bd52a",
   "metadata": {},
   "outputs": [
    {
     "data": {
      "text/plain": [
       "<AxesSubplot:>"
      ]
     },
     "execution_count": 226,
     "metadata": {},
     "output_type": "execute_result"
    },
    {
     "data": {
      "image/png": "[encoded data removed]",
      "text/plain": [
       "<Figure size 1500x1500 with 2 Axes>"
      ]
     },
     "metadata": {},
     "output_type": "display_data"
    }
   ],
   "source": [
    "corr = internship_train.corr()\n",
    "mask = np.triu(np.ones_like(corr, dtype=bool))\n",
    "\n",
    "f, ax = plt.subplots(figsize=(15,15))\n",
    "cmap = sns.diverging_palette(230, 20, as_cmap=True)\n",
    "\n",
    "sns.heatmap(corr, mask=mask, cmap=cmap, vmax=.3, center=0,\n",
    "            square=True, linewidths=.5, cbar_kws={\"shrink\": .5})"
   ]
  },
  {
   "cell_type": "code",
   "execution_count": 227,
   "id": "e9db0a85",
   "metadata": {},
   "outputs": [
    {
     "name": "stdout",
     "output_type": "stream",
     "text": [
      "0.9400156491340984\n"
     ]
    }
   ],
   "source": [
    "print(internship_train['8'].corr(internship_train['6']))"
   ]
  },
  {
   "cell_type": "markdown",
   "id": "a3bfcbdf",
   "metadata": {},
   "source": [
    "**Column 8 is correlated with column 6. Columns are correlated in over 94 procent. We have to drop one of them to reduce dimensionality!**"
   ]
  },
  {
   "cell_type": "code",
   "execution_count": 228,
   "id": "9a3a424a",
   "metadata": {},
   "outputs": [],
   "source": [
    "uncorrelated_internship_train = internship_train.drop('8', axis=1)"
   ]
  },
  {
   "cell_type": "code",
   "execution_count": 269,
   "id": "f9b7cde9",
   "metadata": {},
   "outputs": [],
   "source": [
    "from sklearn.model_selection import train_test_split\n",
    "from sklearn.preprocessing import StandardScaler\n",
    "\n",
    "X, y = uncorrelated_internship_train.drop('target', axis=1), uncorrelated_internship_train['target']\n",
    "\n",
    "standart_scaler = StandardScaler()\n",
    "\n",
    "X_train, X_val, y_train, y_val = train_test_split(X, y, test_size=0.25,\\\n",
    "                                                  shuffle=True)\n",
    "\n",
    "X_train_scaled =  standart_scaler.fit_transform(X_train)     \n",
    "X_val_scaled = standart_scaler.transform(X_val)                                      "
   ]
  },
  {
   "cell_type": "markdown",
   "id": "c72eac99",
   "metadata": {},
   "source": [
    "### XGBOOST REGRESSOR MODEL"
   ]
  },
  {
   "cell_type": "code",
   "execution_count": 270,
   "id": "479a5849",
   "metadata": {},
   "outputs": [],
   "source": [
    "import xgboost as xgb\n",
    "from sklearn.model_selection import RandomizedSearchCV"
   ]
  },
  {
   "cell_type": "markdown",
   "id": "66adafe0",
   "metadata": {},
   "source": [
    "**Hypertuning with RandomizedSearchCV on XGBRegressor**"
   ]
  },
  {
   "cell_type": "code",
   "execution_count": 271,
   "id": "28952a57",
   "metadata": {},
   "outputs": [],
   "source": [
    "param_grid = {'gamma': np.linspace(0.3,0.6,7),\n",
    "              'learning_rate': np.linspace(0.05,0.3,6),\n",
    "              'max_depth': [7,8,9],\n",
    "              'n_estimators': np.arange(80,100,5),\n",
    "              'reg_alpha': np.arange(0.7,0.9,0.05),\n",
    "              'reg_lambda': np.arange(0.7,0.9,0.05)}"
   ]
  },
  {
   "cell_type": "code",
   "execution_count": 272,
   "id": "25df5549",
   "metadata": {},
   "outputs": [
    {
     "name": "stdout",
     "output_type": "stream",
     "text": [
      "Fitting 5 folds for each of 50 candidates, totalling 250 fits\n"
     ]
    },
    {
     "data": {
      "text/plain": [
       "RandomizedSearchCV(cv=5,\n",
       "                   estimator=XGBRegressor(base_score=None, booster=None,\n",
       "                                          callbacks=None,\n",
       "                                          colsample_bylevel=None,\n",
       "                                          colsample_bynode=None,\n",
       "                                          colsample_bytree=None,\n",
       "                                          early_stopping_rounds=None,\n",
       "                                          enable_categorical=False,\n",
       "                                          eval_metric=None, feature_types=None,\n",
       "                                          gamma=None, gpu_id=None,\n",
       "                                          grow_policy=None,\n",
       "                                          importance_type=None,\n",
       "                                          interaction_constraints=None,\n",
       "                                          learning_rate=...\n",
       "                                          predictor=None, random_state=None, ...),\n",
       "                   n_iter=50,\n",
       "                   param_distributions={'gamma': array([0.3 , 0.35, 0.4 , 0.45, 0.5 , 0.55, 0.6 ]),\n",
       "                                        'learning_rate': array([0.05, 0.1 , 0.15, 0.2 , 0.25, 0.3 ]),\n",
       "                                        'max_depth': [7, 8, 9],\n",
       "                                        'n_estimators': array([80, 85, 90, 95]),\n",
       "                                        'reg_alpha': array([0.7 , 0.75, 0.8 , 0.85, 0.9 ]),\n",
       "                                        'reg_lambda': array([0.7 , 0.75, 0.8 , 0.85, 0.9 ])},\n",
       "                   scoring='neg_mean_squared_error', verbose=1)"
      ]
     },
     "execution_count": 272,
     "metadata": {},
     "output_type": "execute_result"
    }
   ],
   "source": [
    "xgb_reg = xgb.XGBRegressor()\n",
    "\n",
    "xgb_reg_randomizedCV = RandomizedSearchCV(estimator=xgb_reg, scoring='neg_mean_squared_error',\\\n",
    "                            param_distributions=param_grid, verbose=1, cv=5, n_iter=50)\n",
    "\n",
    "xgb_reg_randomizedCV.fit(X_train_scaled, y_train.ravel())"
   ]
  },
  {
   "cell_type": "code",
   "execution_count": 273,
   "id": "50aeddb3",
   "metadata": {},
   "outputs": [
    {
     "name": "stdout",
     "output_type": "stream",
     "text": [
      "{'reg_lambda': 0.8, 'reg_alpha': 0.8, 'n_estimators': 85, 'max_depth': 9, 'learning_rate': 0.1, 'gamma': 0.6}\n"
     ]
    }
   ],
   "source": [
    "# Best params from\n",
    "bp = xgb_reg_randomizedCV.best_params_\n",
    "print(bp)"
   ]
  },
  {
   "cell_type": "code",
   "execution_count": 274,
   "id": "df27d1a0",
   "metadata": {},
   "outputs": [],
   "source": [
    "# Creating hypertuned XGBRegressor from xgb_reg_randomizedCV\n",
    "final_xgb_reg = xgb_reg_randomizedCV.best_estimator_"
   ]
  },
  {
   "cell_type": "code",
   "execution_count": 275,
   "id": "2c2d962a",
   "metadata": {},
   "outputs": [
    {
     "name": "stdout",
     "output_type": "stream",
     "text": [
      "root_mean_squared_error on train data:  0.023425234441012865\n",
      "root_mean_squared_error on validation data:  0.024451191136629063\n"
     ]
    }
   ],
   "source": [
    "from sklearn.metrics import mean_squared_error\n",
    "\n",
    "print('root_mean_squared_error on train data: ',\\\n",
    "      mean_squared_error(y_train, final_xgb_reg.predict(X_train_scaled), squared=False))\n",
    "\n",
    "print('root_mean_squared_error on validation data: ',\\\n",
    "      mean_squared_error(y_val, final_xgb_reg.predict(X_val_scaled), squared=False))"
   ]
  },
  {
   "cell_type": "code",
   "execution_count": 277,
   "id": "2bf1ce3e",
   "metadata": {},
   "outputs": [
    {
     "data": {
      "text/plain": [
       "['final_reg_pkl.pkl']"
      ]
     },
     "execution_count": 277,
     "metadata": {},
     "output_type": "execute_result"
    }
   ],
   "source": [
    "# Dumping created xgb model \n",
    "import joblib\n",
    "joblib.dump(final_xgb_reg, 'final_reg_pkl.pkl')"
   ]
  },
  {
   "cell_type": "code",
   "execution_count": null,
   "id": "9ca88300",
   "metadata": {},
   "outputs": [],
   "source": [
    "# Loading xgb model \n",
    "import pickle\n",
    "final_xgb_reg = pickle.load(open('final_reg_pkl.pkl', \"rb\"))"
   ]
  },
  {
   "cell_type": "markdown",
   "id": "6c7230a3",
   "metadata": {},
   "source": [
    "### NEURAL NETWORK MODEL"
   ]
  },
  {
   "cell_type": "code",
   "execution_count": 198,
   "id": "c3182f53",
   "metadata": {},
   "outputs": [],
   "source": [
    "input_shape = X_train_scaled.shape[1]\n",
    "\n",
    "nn_reg = Sequential(name='nn_reg')\n",
    "nn_reg.add(Dense(128, input_shape=[input_shape,], activation='relu', name='dense_128'))\n",
    "nn_reg.add(Dense(32, activation='relu', name='dense_32'))\n",
    "nn_reg.add(Dense(16, activation='relu', name='dense_16'))\n",
    "nn_reg.add(Dense(8, activation='relu', name='dense_8'))\n",
    "nn_reg.add(Dense(1, name='dense_1'))"
   ]
  },
  {
   "cell_type": "code",
   "execution_count": 199,
   "id": "dd2e93f0",
   "metadata": {},
   "outputs": [
    {
     "name": "stdout",
     "output_type": "stream",
     "text": [
      "Model: \"nn_reg\"\n",
      "_________________________________________________________________\n",
      " Layer (type)                Output Shape              Param #   \n",
      "=================================================================\n",
      " dense_128 (Dense)           (None, 128)               6784      \n",
      "                                                                 \n",
      " dense_32 (Dense)            (None, 32)                4128      \n",
      "                                                                 \n",
      " dense_16 (Dense)            (None, 16)                528       \n",
      "                                                                 \n",
      " dense_8 (Dense)             (None, 8)                 136       \n",
      "                                                                 \n",
      " dense_1 (Dense)             (None, 1)                 9         \n",
      "                                                                 \n",
      "=================================================================\n",
      "Total params: 11,585\n",
      "Trainable params: 11,585\n",
      "Non-trainable params: 0\n",
      "_________________________________________________________________\n"
     ]
    }
   ],
   "source": [
    "nn_reg.summary()"
   ]
  },
  {
   "cell_type": "code",
   "execution_count": 282,
   "id": "59ed5aef",
   "metadata": {},
   "outputs": [],
   "source": [
    "nn_reg.compile(loss=MeanSquaredError(), optimizer=Adam(),\\\n",
    "              metrics = [RootMeanSquaredError(), MeanAbsoluteError()])"
   ]
  },
  {
   "cell_type": "code",
   "execution_count": 283,
   "id": "7b5f7469",
   "metadata": {},
   "outputs": [
    {
     "name": "stdout",
     "output_type": "stream",
     "text": [
      "Epoch 1/40\n",
      "739/739 [==============================] - 1s 1ms/step - loss: 878.9583 - root_mean_squared_error: 29.6472 - mean_absolute_error: 24.2781 - val_loss: 137.8567 - val_root_mean_squared_error: 11.7412 - val_mean_absolute_error: 10.1665\n",
      "Epoch 2/40\n",
      "739/739 [==============================] - 1s 1ms/step - loss: 20.9605 - root_mean_squared_error: 4.5783 - mean_absolute_error: 3.4256 - val_loss: 9.4419 - val_root_mean_squared_error: 3.0728 - val_mean_absolute_error: 2.3762\n",
      "Epoch 3/40\n",
      "739/739 [==============================] - 1s 1ms/step - loss: 6.7159 - root_mean_squared_error: 2.5915 - mean_absolute_error: 2.0006 - val_loss: 4.8745 - val_root_mean_squared_error: 2.2078 - val_mean_absolute_error: 1.7082\n",
      "Epoch 4/40\n",
      "739/739 [==============================] - 1s 1ms/step - loss: 3.7658 - root_mean_squared_error: 1.9406 - mean_absolute_error: 1.5095 - val_loss: 2.8880 - val_root_mean_squared_error: 1.6994 - val_mean_absolute_error: 1.3291\n",
      "Epoch 5/40\n",
      "739/739 [==============================] - 1s 1ms/step - loss: 2.3162 - root_mean_squared_error: 1.5219 - mean_absolute_error: 1.1901 - val_loss: 2.1367 - val_root_mean_squared_error: 1.4617 - val_mean_absolute_error: 1.1459\n",
      "Epoch 6/40\n",
      "739/739 [==============================] - 1s 1ms/step - loss: 1.6637 - root_mean_squared_error: 1.2898 - mean_absolute_error: 1.0065 - val_loss: 1.9362 - val_root_mean_squared_error: 1.3915 - val_mean_absolute_error: 1.1026\n",
      "Epoch 7/40\n",
      "739/739 [==============================] - 1s 1ms/step - loss: 1.3126 - root_mean_squared_error: 1.1457 - mean_absolute_error: 0.8979 - val_loss: 1.2915 - val_root_mean_squared_error: 1.1364 - val_mean_absolute_error: 0.8900\n",
      "Epoch 8/40\n",
      "739/739 [==============================] - 1s 1ms/step - loss: 1.0939 - root_mean_squared_error: 1.0459 - mean_absolute_error: 0.8224 - val_loss: 1.4589 - val_root_mean_squared_error: 1.2078 - val_mean_absolute_error: 0.9490\n",
      "Epoch 9/40\n",
      "739/739 [==============================] - 1s 1ms/step - loss: 0.9779 - root_mean_squared_error: 0.9889 - mean_absolute_error: 0.7759 - val_loss: 0.9139 - val_root_mean_squared_error: 0.9560 - val_mean_absolute_error: 0.7534\n",
      "Epoch 10/40\n",
      "739/739 [==============================] - 1s 1ms/step - loss: 0.8545 - root_mean_squared_error: 0.9244 - mean_absolute_error: 0.7245 - val_loss: 1.2699 - val_root_mean_squared_error: 1.1269 - val_mean_absolute_error: 0.8893\n",
      "Epoch 11/40\n",
      "739/739 [==============================] - 1s 1ms/step - loss: 0.8205 - root_mean_squared_error: 0.9058 - mean_absolute_error: 0.7070 - val_loss: 0.7943 - val_root_mean_squared_error: 0.8912 - val_mean_absolute_error: 0.7047\n",
      "Epoch 12/40\n",
      "739/739 [==============================] - 1s 1ms/step - loss: 0.6983 - root_mean_squared_error: 0.8356 - mean_absolute_error: 0.6543 - val_loss: 0.6020 - val_root_mean_squared_error: 0.7759 - val_mean_absolute_error: 0.6135\n",
      "Epoch 13/40\n",
      "739/739 [==============================] - 1s 1ms/step - loss: 0.6424 - root_mean_squared_error: 0.8015 - mean_absolute_error: 0.6244 - val_loss: 0.5941 - val_root_mean_squared_error: 0.7708 - val_mean_absolute_error: 0.6050\n",
      "Epoch 14/40\n",
      "739/739 [==============================] - 1s 1ms/step - loss: 0.5859 - root_mean_squared_error: 0.7654 - mean_absolute_error: 0.5928 - val_loss: 0.4432 - val_root_mean_squared_error: 0.6657 - val_mean_absolute_error: 0.5269\n",
      "Epoch 15/40\n",
      "739/739 [==============================] - 1s 1ms/step - loss: 0.6801 - root_mean_squared_error: 0.8247 - mean_absolute_error: 0.6171 - val_loss: 0.4255 - val_root_mean_squared_error: 0.6523 - val_mean_absolute_error: 0.5133\n",
      "Epoch 16/40\n",
      "739/739 [==============================] - 1s 1ms/step - loss: 0.5036 - root_mean_squared_error: 0.7097 - mean_absolute_error: 0.5502 - val_loss: 0.4876 - val_root_mean_squared_error: 0.6983 - val_mean_absolute_error: 0.5495\n",
      "Epoch 17/40\n",
      "739/739 [==============================] - 1s 1ms/step - loss: 0.4623 - root_mean_squared_error: 0.6800 - mean_absolute_error: 0.5268 - val_loss: 0.4530 - val_root_mean_squared_error: 0.6730 - val_mean_absolute_error: 0.5272\n",
      "Epoch 18/40\n",
      "739/739 [==============================] - 1s 1ms/step - loss: 0.4788 - root_mean_squared_error: 0.6920 - mean_absolute_error: 0.5312 - val_loss: 0.7211 - val_root_mean_squared_error: 0.8492 - val_mean_absolute_error: 0.6577\n",
      "Epoch 19/40\n",
      "739/739 [==============================] - 1s 1ms/step - loss: 0.5077 - root_mean_squared_error: 0.7125 - mean_absolute_error: 0.5394 - val_loss: 0.3638 - val_root_mean_squared_error: 0.6032 - val_mean_absolute_error: 0.4729\n",
      "Epoch 20/40\n",
      "739/739 [==============================] - 1s 1ms/step - loss: 0.3760 - root_mean_squared_error: 0.6132 - mean_absolute_error: 0.4715 - val_loss: 0.6639 - val_root_mean_squared_error: 0.8148 - val_mean_absolute_error: 0.6348\n",
      "Epoch 21/40\n",
      "739/739 [==============================] - 1s 1ms/step - loss: 0.4440 - root_mean_squared_error: 0.6664 - mean_absolute_error: 0.5104 - val_loss: 0.8118 - val_root_mean_squared_error: 0.9010 - val_mean_absolute_error: 0.6894\n",
      "Epoch 22/40\n",
      "739/739 [==============================] - 1s 1ms/step - loss: 0.3906 - root_mean_squared_error: 0.6249 - mean_absolute_error: 0.4730 - val_loss: 0.3421 - val_root_mean_squared_error: 0.5849 - val_mean_absolute_error: 0.4498\n",
      "Epoch 23/40\n",
      "739/739 [==============================] - 1s 1ms/step - loss: 0.4080 - root_mean_squared_error: 0.6387 - mean_absolute_error: 0.4850 - val_loss: 0.3051 - val_root_mean_squared_error: 0.5523 - val_mean_absolute_error: 0.4300\n",
      "Epoch 24/40\n",
      "739/739 [==============================] - 1s 1ms/step - loss: 0.4024 - root_mean_squared_error: 0.6343 - mean_absolute_error: 0.4707 - val_loss: 0.1857 - val_root_mean_squared_error: 0.4309 - val_mean_absolute_error: 0.3373\n",
      "Epoch 25/40\n",
      "739/739 [==============================] - 1s 1ms/step - loss: 0.3754 - root_mean_squared_error: 0.6127 - mean_absolute_error: 0.4565 - val_loss: 0.7589 - val_root_mean_squared_error: 0.8712 - val_mean_absolute_error: 0.6775\n",
      "Epoch 26/40\n",
      "739/739 [==============================] - 1s 1ms/step - loss: 0.4091 - root_mean_squared_error: 0.6396 - mean_absolute_error: 0.4829 - val_loss: 0.1899 - val_root_mean_squared_error: 0.4358 - val_mean_absolute_error: 0.3429\n",
      "Epoch 27/40\n",
      "739/739 [==============================] - 1s 1ms/step - loss: 0.3122 - root_mean_squared_error: 0.5587 - mean_absolute_error: 0.4136 - val_loss: 0.3372 - val_root_mean_squared_error: 0.5807 - val_mean_absolute_error: 0.4483\n",
      "Epoch 28/40\n",
      "739/739 [==============================] - 1s 1ms/step - loss: 0.3719 - root_mean_squared_error: 0.6098 - mean_absolute_error: 0.4636 - val_loss: 0.1988 - val_root_mean_squared_error: 0.4459 - val_mean_absolute_error: 0.3443\n"
     ]
    }
   ],
   "source": [
    "model_checkpoint = ModelCheckpoint(filepath='reg_task_3.h5', save_best_only = True, mode = 'min')\n",
    "early_stopping = EarlyStopping(mode=\"min\", patience=4)\n",
    "\n",
    "nn_reg_fit = nn_reg.fit(X_train_scaled, y_train, batch_size=64, validation_split = 0.3,\\\n",
    "                     epochs=40, callbacks = [model_checkpoint, early_stopping])"
   ]
  },
  {
   "cell_type": "code",
   "execution_count": 192,
   "id": "8588a07f",
   "metadata": {},
   "outputs": [
    {
     "name": "stdout",
     "output_type": "stream",
     "text": [
      "INFO:tensorflow:Assets written to: nn_reg/assets\n"
     ]
    }
   ],
   "source": [
    "# Dumping created nn_reg \n",
    "nn_reg.save(\"nn_reg\")"
   ]
  },
  {
   "cell_type": "code",
   "execution_count": 195,
   "id": "6d13c43f",
   "metadata": {},
   "outputs": [],
   "source": [
    "# Loading nn_reg\n",
    "from keras.models import load_model\n",
    "nn_reg = load_model(\"nn_reg\")"
   ]
  },
  {
   "cell_type": "code",
   "execution_count": 284,
   "id": "c4873c9b",
   "metadata": {},
   "outputs": [
    {
     "data": {
      "text/html": [
       "<div>\n",
       "<style scoped>\n",
       "    .dataframe tbody tr th:only-of-type {\n",
       "        vertical-align: middle;\n",
       "    }\n",
       "\n",
       "    .dataframe tbody tr th {\n",
       "        vertical-align: top;\n",
       "    }\n",
       "\n",
       "    .dataframe thead th {\n",
       "        text-align: right;\n",
       "    }\n",
       "</style>\n",
       "<table border=\"1\" class=\"dataframe\">\n",
       "  <thead>\n",
       "    <tr style=\"text-align: right;\">\n",
       "      <th></th>\n",
       "      <th>loss</th>\n",
       "      <th>root_mean_squared_error</th>\n",
       "      <th>mean_absolute_error</th>\n",
       "      <th>val_loss</th>\n",
       "      <th>val_root_mean_squared_error</th>\n",
       "      <th>val_mean_absolute_error</th>\n",
       "    </tr>\n",
       "    <tr>\n",
       "      <th>epoch</th>\n",
       "      <th></th>\n",
       "      <th></th>\n",
       "      <th></th>\n",
       "      <th></th>\n",
       "      <th></th>\n",
       "      <th></th>\n",
       "    </tr>\n",
       "  </thead>\n",
       "  <tbody>\n",
       "    <tr>\n",
       "      <th>24</th>\n",
       "      <td>0.375389</td>\n",
       "      <td>0.612690</td>\n",
       "      <td>0.456509</td>\n",
       "      <td>0.758929</td>\n",
       "      <td>0.871165</td>\n",
       "      <td>0.677530</td>\n",
       "    </tr>\n",
       "    <tr>\n",
       "      <th>25</th>\n",
       "      <td>0.409057</td>\n",
       "      <td>0.639576</td>\n",
       "      <td>0.482853</td>\n",
       "      <td>0.189933</td>\n",
       "      <td>0.435813</td>\n",
       "      <td>0.342861</td>\n",
       "    </tr>\n",
       "    <tr>\n",
       "      <th>21</th>\n",
       "      <td>0.390554</td>\n",
       "      <td>0.624943</td>\n",
       "      <td>0.472981</td>\n",
       "      <td>0.342140</td>\n",
       "      <td>0.584928</td>\n",
       "      <td>0.449811</td>\n",
       "    </tr>\n",
       "    <tr>\n",
       "      <th>14</th>\n",
       "      <td>0.680115</td>\n",
       "      <td>0.824691</td>\n",
       "      <td>0.617070</td>\n",
       "      <td>0.425517</td>\n",
       "      <td>0.652316</td>\n",
       "      <td>0.513299</td>\n",
       "    </tr>\n",
       "    <tr>\n",
       "      <th>2</th>\n",
       "      <td>6.715905</td>\n",
       "      <td>2.591506</td>\n",
       "      <td>2.000631</td>\n",
       "      <td>4.874456</td>\n",
       "      <td>2.207817</td>\n",
       "      <td>1.708155</td>\n",
       "    </tr>\n",
       "    <tr>\n",
       "      <th>17</th>\n",
       "      <td>0.478803</td>\n",
       "      <td>0.691956</td>\n",
       "      <td>0.531228</td>\n",
       "      <td>0.721114</td>\n",
       "      <td>0.849184</td>\n",
       "      <td>0.657654</td>\n",
       "    </tr>\n",
       "    <tr>\n",
       "      <th>8</th>\n",
       "      <td>0.977883</td>\n",
       "      <td>0.988880</td>\n",
       "      <td>0.775936</td>\n",
       "      <td>0.913939</td>\n",
       "      <td>0.956002</td>\n",
       "      <td>0.753351</td>\n",
       "    </tr>\n",
       "    <tr>\n",
       "      <th>3</th>\n",
       "      <td>3.765841</td>\n",
       "      <td>1.940578</td>\n",
       "      <td>1.509488</td>\n",
       "      <td>2.888028</td>\n",
       "      <td>1.699420</td>\n",
       "      <td>1.329071</td>\n",
       "    </tr>\n",
       "    <tr>\n",
       "      <th>11</th>\n",
       "      <td>0.698303</td>\n",
       "      <td>0.835645</td>\n",
       "      <td>0.654284</td>\n",
       "      <td>0.602013</td>\n",
       "      <td>0.775895</td>\n",
       "      <td>0.613546</td>\n",
       "    </tr>\n",
       "    <tr>\n",
       "      <th>5</th>\n",
       "      <td>1.663710</td>\n",
       "      <td>1.289849</td>\n",
       "      <td>1.006483</td>\n",
       "      <td>1.936235</td>\n",
       "      <td>1.391487</td>\n",
       "      <td>1.102597</td>\n",
       "    </tr>\n",
       "  </tbody>\n",
       "</table>\n",
       "</div>"
      ],
      "text/plain": [
       "           loss  root_mean_squared_error  mean_absolute_error  val_loss  \\\n",
       "epoch                                                                     \n",
       "24     0.375389                 0.612690             0.456509  0.758929   \n",
       "25     0.409057                 0.639576             0.482853  0.189933   \n",
       "21     0.390554                 0.624943             0.472981  0.342140   \n",
       "14     0.680115                 0.824691             0.617070  0.425517   \n",
       "2      6.715905                 2.591506             2.000631  4.874456   \n",
       "17     0.478803                 0.691956             0.531228  0.721114   \n",
       "8      0.977883                 0.988880             0.775936  0.913939   \n",
       "3      3.765841                 1.940578             1.509488  2.888028   \n",
       "11     0.698303                 0.835645             0.654284  0.602013   \n",
       "5      1.663710                 1.289849             1.006483  1.936235   \n",
       "\n",
       "       val_root_mean_squared_error  val_mean_absolute_error  \n",
       "epoch                                                        \n",
       "24                        0.871165                 0.677530  \n",
       "25                        0.435813                 0.342861  \n",
       "21                        0.584928                 0.449811  \n",
       "14                        0.652316                 0.513299  \n",
       "2                         2.207817                 1.708155  \n",
       "17                        0.849184                 0.657654  \n",
       "8                         0.956002                 0.753351  \n",
       "3                         1.699420                 1.329071  \n",
       "11                        0.775895                 0.613546  \n",
       "5                         1.391487                 1.102597  "
      ]
     },
     "execution_count": 284,
     "metadata": {},
     "output_type": "execute_result"
    }
   ],
   "source": [
    "nn_reg_df = pd.DataFrame(nn_reg_fit.history)\n",
    "nn_reg_df['epoch'] = nn_reg_fit.epoch\n",
    "nn_reg_df = nn_reg_df.set_index('epoch')\n",
    "nn_reg_df.sample(10)"
   ]
  },
  {
   "cell_type": "code",
   "execution_count": 200,
   "id": "ee90057e",
   "metadata": {},
   "outputs": [
    {
     "data": {
      "image/png": "[encoded data removed]",
      "text/plain": [
       "<Figure size 2000x2000 with 3 Axes>"
      ]
     },
     "metadata": {},
     "output_type": "display_data"
    }
   ],
   "source": [
    "fig, axes = plt.subplots(nrows=3, ncols=1, figsize=(20,20))\n",
    "\n",
    "# Plot 1 - train_loss_history and val_loss_history\n",
    "sns.lineplot(data=nn_reg_df['loss'], ax=axes[0], label='loss')\n",
    "sns.lineplot(data=nn_reg_df['val_loss'], ax=axes[0], label='val_loss')\n",
    "axes[0].set_title('Train and Validation Loss History')\n",
    "axes[0].set_xlabel('Epoch')\n",
    "axes[0].set_ylabel('Loss')\n",
    "plt.subplots_adjust(hspace = 0.3)\n",
    "\n",
    "# Plot 2 - root_mean_squared_error and val_root_mean_squared_error\n",
    "sns.lineplot(data=nn_reg_df['root_mean_squared_error'], ax=axes[1], label='root_mean_squared_error')\n",
    "sns.lineplot(data=nn_reg_df['val_root_mean_squared_error'], ax=axes[1], label='val_root_mean_squared_error')\n",
    "axes[1].set_title('Root Mean Squared Error and Validation Root Mean Squared Error')\n",
    "axes[1].set_xlabel('Epoch')\n",
    "axes[1].set_ylabel('Root Mean Squared Error')\n",
    "plt.subplots_adjust(hspace = 0.3)\n",
    "\n",
    "# Plot 3 - mean_absolute_error\n",
    "sns.lineplot(data=nn_reg_df['mean_absolute_error'], ax=axes[2], label='mean_absolute_error')\n",
    "axes[2].set_title('Mean Absolute Error')\n",
    "axes[2].set_xlabel('Epoch')\n",
    "axes[2].set_ylabel('Mean Absolute Error')\n",
    "axes[2].legend()\n",
    "\n",
    "plt.show()"
   ]
  },
  {
   "cell_type": "code",
   "execution_count": 286,
   "id": "764ddecb",
   "metadata": {},
   "outputs": [
    {
     "name": "stdout",
     "output_type": "stream",
     "text": [
      "2110/2110 [==============================] - 1s 522us/step\n",
      "root_mean_squared_error on train data:  0.4336803801099837\n",
      "704/704 [==============================] - 0s 562us/step\n",
      "root_mean_squared_error on validation data:  0.44179271591438396\n"
     ]
    }
   ],
   "source": [
    "print('root_mean_squared_error on train data: ',\\\n",
    "      mean_squared_error(y_train, nn_reg.predict(X_train_scaled), squared=False))\n",
    "\n",
    "print('root_mean_squared_error on validation data: ',\\\n",
    "      mean_squared_error(y_val, nn_reg.predict(X_val_scaled), squared=False))"
   ]
  },
  {
   "cell_type": "markdown",
   "id": "96a285bb",
   "metadata": {},
   "source": [
    "### COMPARING MODELS"
   ]
  },
  {
   "cell_type": "markdown",
   "id": "2cf7b243",
   "metadata": {},
   "source": [
    "**Root Mean Squared Error Results for XGBRegressor**\n",
    "- root_mean_squared_error on train data:  0.023425234441012865\n",
    "- root_mean_squared_error on validation data:  0.024451191136629063"
   ]
  },
  {
   "cell_type": "markdown",
   "id": "326e8946",
   "metadata": {},
   "source": [
    "**Root Mean Squared Error Results for Neural Network**\n",
    "- root_mean_squared_error on train data:  0.4336803801099837\n",
    "- root_mean_squared_error on validation data:  0.44179271591438396"
   ]
  },
  {
   "cell_type": "markdown",
   "id": "e3730ebe",
   "metadata": {},
   "source": [
    "**XGBoost Regressor is definitely better than my custom neural network.**"
   ]
  },
  {
   "cell_type": "markdown",
   "id": "43d06152",
   "metadata": {},
   "source": [
    "### PPREDICTIONS ON internship_hidden_test.csv "
   ]
  },
  {
   "cell_type": "code",
   "execution_count": 191,
   "id": "65d4e869",
   "metadata": {},
   "outputs": [
    {
     "data": {
      "text/html": [
       "<div>\n",
       "<style scoped>\n",
       "    .dataframe tbody tr th:only-of-type {\n",
       "        vertical-align: middle;\n",
       "    }\n",
       "\n",
       "    .dataframe tbody tr th {\n",
       "        vertical-align: top;\n",
       "    }\n",
       "\n",
       "    .dataframe thead th {\n",
       "        text-align: right;\n",
       "    }\n",
       "</style>\n",
       "<table border=\"1\" class=\"dataframe\">\n",
       "  <thead>\n",
       "    <tr style=\"text-align: right;\">\n",
       "      <th></th>\n",
       "      <th>prediction</th>\n",
       "    </tr>\n",
       "  </thead>\n",
       "  <tbody>\n",
       "    <tr>\n",
       "      <th>0</th>\n",
       "      <td>11.245076</td>\n",
       "    </tr>\n",
       "    <tr>\n",
       "      <th>1</th>\n",
       "      <td>78.709221</td>\n",
       "    </tr>\n",
       "    <tr>\n",
       "      <th>2</th>\n",
       "      <td>7.537620</td>\n",
       "    </tr>\n",
       "    <tr>\n",
       "      <th>3</th>\n",
       "      <td>37.498260</td>\n",
       "    </tr>\n",
       "    <tr>\n",
       "      <th>4</th>\n",
       "      <td>65.746796</td>\n",
       "    </tr>\n",
       "    <tr>\n",
       "      <th>5</th>\n",
       "      <td>37.456268</td>\n",
       "    </tr>\n",
       "    <tr>\n",
       "      <th>6</th>\n",
       "      <td>93.843147</td>\n",
       "    </tr>\n",
       "    <tr>\n",
       "      <th>7</th>\n",
       "      <td>98.427109</td>\n",
       "    </tr>\n",
       "    <tr>\n",
       "      <th>8</th>\n",
       "      <td>30.600554</td>\n",
       "    </tr>\n",
       "    <tr>\n",
       "      <th>9</th>\n",
       "      <td>26.266893</td>\n",
       "    </tr>\n",
       "  </tbody>\n",
       "</table>\n",
       "</div>"
      ],
      "text/plain": [
       "   prediction\n",
       "0   11.245076\n",
       "1   78.709221\n",
       "2    7.537620\n",
       "3   37.498260\n",
       "4   65.746796\n",
       "5   37.456268\n",
       "6   93.843147\n",
       "7   98.427109\n",
       "8   30.600554\n",
       "9   26.266893"
      ]
     },
     "execution_count": 191,
     "metadata": {},
     "output_type": "execute_result"
    }
   ],
   "source": [
    "test = pd.read_csv('internship_hidden_test.csv')"
   ]
  },
  {
   "cell_type": "code",
   "execution_count": 203,
   "id": "ae80919b",
   "metadata": {},
   "outputs": [],
   "source": [
    "uncorrelated_test = test.drop('8', axis=1)\n",
    "uncorrelated_test = standart_scaler.fit_transform(uncorrelated_test)"
   ]
  },
  {
   "cell_type": "code",
   "execution_count": 202,
   "id": "d48357c3",
   "metadata": {},
   "outputs": [],
   "source": [
    "predictions = final_xgb_reg.predict(uncorrelated_test)"
   ]
  },
  {
   "cell_type": "code",
   "execution_count": 201,
   "id": "a27eadab",
   "metadata": {},
   "outputs": [
    {
     "data": {
      "text/html": [
       "<div>\n",
       "<style scoped>\n",
       "    .dataframe tbody tr th:only-of-type {\n",
       "        vertical-align: middle;\n",
       "    }\n",
       "\n",
       "    .dataframe tbody tr th {\n",
       "        vertical-align: top;\n",
       "    }\n",
       "\n",
       "    .dataframe thead th {\n",
       "        text-align: right;\n",
       "    }\n",
       "</style>\n",
       "<table border=\"1\" class=\"dataframe\">\n",
       "  <thead>\n",
       "    <tr style=\"text-align: right;\">\n",
       "      <th></th>\n",
       "      <th>prediction</th>\n",
       "    </tr>\n",
       "  </thead>\n",
       "  <tbody>\n",
       "    <tr>\n",
       "      <th>0</th>\n",
       "      <td>11.245076</td>\n",
       "    </tr>\n",
       "    <tr>\n",
       "      <th>1</th>\n",
       "      <td>78.709221</td>\n",
       "    </tr>\n",
       "    <tr>\n",
       "      <th>2</th>\n",
       "      <td>7.537620</td>\n",
       "    </tr>\n",
       "    <tr>\n",
       "      <th>3</th>\n",
       "      <td>37.498260</td>\n",
       "    </tr>\n",
       "    <tr>\n",
       "      <th>4</th>\n",
       "      <td>65.746796</td>\n",
       "    </tr>\n",
       "    <tr>\n",
       "      <th>5</th>\n",
       "      <td>37.456268</td>\n",
       "    </tr>\n",
       "    <tr>\n",
       "      <th>6</th>\n",
       "      <td>93.843147</td>\n",
       "    </tr>\n",
       "    <tr>\n",
       "      <th>7</th>\n",
       "      <td>98.427109</td>\n",
       "    </tr>\n",
       "    <tr>\n",
       "      <th>8</th>\n",
       "      <td>30.600554</td>\n",
       "    </tr>\n",
       "    <tr>\n",
       "      <th>9</th>\n",
       "      <td>26.266893</td>\n",
       "    </tr>\n",
       "  </tbody>\n",
       "</table>\n",
       "</div>"
      ],
      "text/plain": [
       "   prediction\n",
       "0   11.245076\n",
       "1   78.709221\n",
       "2    7.537620\n",
       "3   37.498260\n",
       "4   65.746796\n",
       "5   37.456268\n",
       "6   93.843147\n",
       "7   98.427109\n",
       "8   30.600554\n",
       "9   26.266893"
      ]
     },
     "execution_count": 201,
     "metadata": {},
     "output_type": "execute_result"
    }
   ],
   "source": [
    "predictions_df = pd.DataFrame(predictions, columns = ['prediction'])\n",
    "\n",
    "predictions_df.to_csv('predictions.csv')\n",
    "predictions_df.head(10)"
   ]
  }
 ],
 "metadata": {
  "kernelspec": {
   "display_name": "Python 3 (ipykernel)",
   "language": "python",
   "name": "python3"
  },
  "language_info": {
   "codemirror_mode": {
    "name": "ipython",
    "version": 3
   },
   "file_extension": ".py",
   "mimetype": "text/x-python",
   "name": "python",
   "nbconvert_exporter": "python",
   "pygments_lexer": "ipython3",
   "version": "3.9.13"
  }
 },
 "nbformat": 4,
 "nbformat_minor": 5
}
